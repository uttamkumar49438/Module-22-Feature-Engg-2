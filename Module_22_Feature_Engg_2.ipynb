{
  "nbformat": 4,
  "nbformat_minor": 0,
  "metadata": {
    "colab": {
      "provenance": []
    },
    "kernelspec": {
      "name": "python3",
      "display_name": "Python 3"
    },
    "language_info": {
      "name": "python"
    }
  },
  "cells": [
    {
      "cell_type": "markdown",
      "source": [
        "Q1. What is the Filter method in feature selection, and how does it work?"
      ],
      "metadata": {
        "id": "udvalgWEDfSH"
      }
    },
    {
      "cell_type": "markdown",
      "source": [
        "=The filter method is a feature selection technique that evaluates the relevance of each feature independently of the machine learning model.\n",
        "=It works by calculating statistical measures (e.g., correlation, mutual information) between each feature and the target variable to assess their importance"
      ],
      "metadata": {
        "id": "wF5xjRGIDl1F"
      }
    },
    {
      "cell_type": "markdown",
      "source": [
        "Q2. How does the Wrapper method differ from the Filter method in feature selection?"
      ],
      "metadata": {
        "id": "YI84aGogDukb"
      }
    },
    {
      "cell_type": "markdown",
      "source": [
        "=Wrapper methods evaluate feature subsets based on the performance of a specific machine learning algorithm, whereas filter methods assess the relevance of individual features using statistical measures.\n",
        "=Wrapper methods can be computationally expensive as they involve training multiple models, while filter methods are typically faster and less resource-intensive."
      ],
      "metadata": {
        "id": "nRohlPRfDwzG"
      }
    },
    {
      "cell_type": "markdown",
      "source": [
        "Q3. What are some common techniques used in Embedded feature selection methods?"
      ],
      "metadata": {
        "id": "i9OeRUNbD1bH"
      }
    },
    {
      "cell_type": "markdown",
      "source": [
        "=Regularization methods (e.g., Lasso, Ridge regression)\n",
        "=Decision tree-based algorithms (e.g., Random Forest, Gradient Boosting)\n",
        "=Feature importance scores derived from machine learning models during training"
      ],
      "metadata": {
        "id": "L07okrj0D3t1"
      }
    },
    {
      "cell_type": "markdown",
      "source": [
        "Q4. What are some drawbacks of using the Filter method for feature selection?"
      ],
      "metadata": {
        "id": "xNc246wiD7aC"
      }
    },
    {
      "cell_type": "markdown",
      "source": [
        "=The filter method may overlook feature interactions and dependencies, as it evaluates features independently.\n",
        "=It may select redundant or irrelevant features that do not contribute to the predictive performance of the model."
      ],
      "metadata": {
        "id": "07EDIhPID9tf"
      }
    },
    {
      "cell_type": "markdown",
      "source": [
        "Q5. In which situations would you prefer using the Filter method over the Wrapper method for feature\n",
        "selection?"
      ],
      "metadata": {
        "id": "HDPoass2EBGl"
      }
    },
    {
      "cell_type": "markdown",
      "source": [
        "=Use the filter method when computational resources are limited, and a quick assessment of feature relevance is needed.\n",
        "=It is suitable for datasets with a large number of features and when feature interactions are not crucial for model performance."
      ],
      "metadata": {
        "id": "0T12t3ogEEGT"
      }
    },
    {
      "cell_type": "markdown",
      "source": [
        "Q6. In a telecom company, you are working on a project to develop a predictive model for customer churn.\n",
        "You are unsure of which features to include in the model because the dataset contains several different\n",
        "ones. Describe how you would choose the most pertinent attributes for the model using the Filter Method."
      ],
      "metadata": {
        "id": "5TV-YkubEJzL"
      }
    },
    {
      "cell_type": "markdown",
      "source": [
        "=Calculate statistical measures (e.g., correlation, mutual information) between each feature and the target variable (customer churn).\n",
        "=Select the top-ranked features based on their importance scores.\n",
        "=Optionally, fine-tune the selection threshold based on domain knowledge or experimentation."
      ],
      "metadata": {
        "id": "dkG9dA_tEK7Z"
      }
    },
    {
      "cell_type": "markdown",
      "source": [
        "Q7. You are working on a project to predict the outcome of a soccer match. You have a large dataset with\n",
        "many features, including player statistics and team rankings. Explain how you would use the Embedded\n",
        "method to select the most relevant features for the model."
      ],
      "metadata": {
        "id": "87TY9x0hEP-j"
      }
    },
    {
      "cell_type": "markdown",
      "source": [
        "=Train a machine learning model (e.g., Random Forest, Gradient Boosting) using the entire dataset.\n",
        "=Extract feature importance scores from the trained model.\n",
        "=Select the most relevant features based on their importance scores, considering a predefined threshold or using feature selection techniques (e.g., selecting the top K features)."
      ],
      "metadata": {
        "id": "Yl5aMbaXESNP"
      }
    },
    {
      "cell_type": "markdown",
      "source": [
        "Q8. You are working on a project to predict the price of a house based on its features, such as size, location,\n",
        "and age. You have a limited number of features, and you want to ensure that you select the most important\n",
        "ones for the model. Explain how you would use the Wrapper method to select the best set of features for the\n",
        "predictor."
      ],
      "metadata": {
        "id": "EzV3NNyaEWYn"
      }
    },
    {
      "cell_type": "markdown",
      "source": [
        "=Employ a wrapper method such as recursive feature elimination (RFE) with cross-validation.\n",
        "=Train a machine learning model (e.g., Linear Regression, Random Forest) on the dataset with all features.\n",
        "=Rank the features based on their importance scores or coefficients.\n",
        "=Iteratively remove the least important features and retrain the model until reaching the desired number of features or achieving optimal performance."
      ],
      "metadata": {
        "id": "IaHfUUNaEZc0"
      }
    }
  ]
}